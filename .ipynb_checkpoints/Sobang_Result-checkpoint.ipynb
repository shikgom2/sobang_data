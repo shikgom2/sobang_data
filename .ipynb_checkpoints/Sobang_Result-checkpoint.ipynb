{
 "cells": [
  {
   "cell_type": "markdown",
   "id": "0eeefa01",
   "metadata": {},
   "source": [
    "# 1. 수난사고 위치별 조회"
   ]
  },
  {
   "cell_type": "code",
   "execution_count": null,
   "id": "d8274985",
   "metadata": {},
   "outputs": [],
   "source": [
    "import pandas as pd\n",
    "import geopandas as gpd\n",
    "from shapely.geometry import Polygon, LineString, Point\n",
    "import random\n",
    "\n",
    "weather_csv = gpd.read_file(\"./기상청_종관기상관측_ASOS.csv\", encoding='cp949')\n",
    "accident_csv = gpd.read_file(\"제주특별자치도_수난사고 구조출동 현황_2011_2020.csv\")\n",
    "length = len(accident_csv)"
   ]
  },
  {
   "cell_type": "code",
   "execution_count": null,
   "id": "60bd54f7",
   "metadata": {},
   "outputs": [],
   "source": [
    "import requests\n",
    "import time\n",
    "\n",
    "new_idx = []\n",
    "new_x = []\n",
    "new_y = []\n",
    "print(length)\n",
    "for idx in range(0, length):  \n",
    "    if(str(accident_csv['loc_info_y'][idx]) != ''):\n",
    "        method = \"GET\"\n",
    "        url = \"https://dapi.kakao.com/v2/local/geo/transcoord.json\"\n",
    "        params = {'x' : str(accident_csv['loc_info_x'][idx]), \n",
    "                  'y' : str(accident_csv['loc_info_y'][idx]),\n",
    "                  'input_coord' : 'TM',\n",
    "                  'output_coord' : 'WGS84',\n",
    "                  'Content-Type' : 'application/x-www-form-urlencoded'}\n",
    "        header = {'authorization': 'KakaoAK 2bf0aa36b38bfed87150a8fd1246ee39'}\n",
    "\n",
    "        response = requests.request(method=method, url=url, headers=header, params=params )\n",
    "        tokens = response.json()\n",
    "\n",
    "        x = tokens['documents'][0]['x']\n",
    "        y = tokens['documents'][0]['y'] - 0.453\n",
    "\n",
    "        new_idx.append(accident_csv['resc_reprt_no'])\n",
    "        new_x.append(x)\n",
    "        new_y.append(y)\n",
    "        time.sleep(0.5)\n",
    "    else: #has no coordinate\n",
    "        print(idx)"
   ]
  }
 ],
 "metadata": {
  "kernelspec": {
   "display_name": "Python 3 (ipykernel)",
   "language": "python",
   "name": "python3"
  },
  "language_info": {
   "codemirror_mode": {
    "name": "ipython",
    "version": 3
   },
   "file_extension": ".py",
   "mimetype": "text/x-python",
   "name": "python",
   "nbconvert_exporter": "python",
   "pygments_lexer": "ipython3",
   "version": "3.7.8"
  }
 },
 "nbformat": 4,
 "nbformat_minor": 5
}
