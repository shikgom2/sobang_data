{
 "cells": [
  {
   "cell_type": "code",
   "execution_count": 21,
   "id": "e98b751c",
   "metadata": {},
   "outputs": [
    {
     "ename": "IndentationError",
     "evalue": "expected an indented block (2152696704.py, line 18)",
     "output_type": "error",
     "traceback": [
      "\u001b[0;36m  File \u001b[0;32m\"/var/folders/sw/ypsqlfts35lf8nn7vytq_t100000gn/T/ipykernel_29249/2152696704.py\"\u001b[0;36m, line \u001b[0;32m18\u001b[0m\n\u001b[0;31m    jeju_df\u001b[0m\n\u001b[0m          ^\u001b[0m\n\u001b[0;31mIndentationError\u001b[0m\u001b[0;31m:\u001b[0m expected an indented block\n"
     ]
    }
   ],
   "source": [
    "import pandas as pd\n",
    "import numpy as np\n",
    "\n",
    "df = pd.read_csv(\"기상청_종관기상관측_ASOS.csv\", encoding = 'euc-kr')\n",
    "jeju = df.지점명 == '제주'\n",
    "\n",
    "\n",
    "date = df[jeju]['일시']\n",
    "\n",
    "#기사파싱\n",
    "jeju_df = pd.DataFrame(date)\n",
    "\n",
    "weather_list = ['비', '박무', '소낙눈', '뇌전', '눈','달무리', '소나기', '소낙눈', '소낙성진눈깨비','안개', '안개비', '연무', '진눈깨비', '천둥', '폭풍', '황사']\n",
    "jeju_df[weather_list] = \"\"\n",
    "for index, row in df.iterrows():\n",
    "    #print(row['일시']['비'])\n",
    "    #print(row['기사'])\n",
    "jeju_df"
   ]
  }
 ],
 "metadata": {
  "kernelspec": {
   "display_name": "Python 3 (ipykernel)",
   "language": "python",
   "name": "python3"
  },
  "language_info": {
   "codemirror_mode": {
    "name": "ipython",
    "version": 3
   },
   "file_extension": ".py",
   "mimetype": "text/x-python",
   "name": "python",
   "nbconvert_exporter": "python",
   "pygments_lexer": "ipython3",
   "version": "3.7.8"
  }
 },
 "nbformat": 4,
 "nbformat_minor": 5
}
