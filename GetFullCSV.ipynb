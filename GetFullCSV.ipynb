{
 "cells": [
  {
   "cell_type": "code",
   "execution_count": 16,
   "id": "dbf87095",
   "metadata": {
    "scrolled": false
   },
   "outputs": [],
   "source": [
    "import pandas as pd\n",
    "import os\n",
    "\n",
    "folders = os.listdir('기상청_종관기상관측_ASOS_시단위')\n",
    "csv_all = pd.DataFrame()\n",
    "\n",
    "for i in range(0,len(folders)):\n",
    "    if folders[i].split('.')[1] == 'csv':\n",
    "        file = '기상청_종관기상관측_ASOS_시단위/'+folders[i]\n",
    "        df= pd.read_csv(file,encoding='cp949') \n",
    "        csv_all = pd.concat([csv_all, df])\n",
    "\n",
    "csv_all = csv_all.drop('기온 QC플래그', axis = 'columns')\n",
    "csv_all = csv_all.drop('풍속 QC플래그', axis = 'columns')\n",
    "csv_all = csv_all.drop('강수량 QC플래그', axis = 'columns')\n",
    "csv_all = csv_all.drop('풍향 QC플래그', axis = 'columns')\n",
    "csv_all = csv_all.drop('습도 QC플래그', axis = 'columns')\n",
    "csv_all = csv_all.drop('현지기압 QC플래그', axis = 'columns')\n",
    "csv_all = csv_all.drop('일조 QC플래그', axis = 'columns')\n",
    "csv_all = csv_all.drop('해면기압 QC플래그', axis = 'columns')\n",
    "csv_all = csv_all.drop('일사 QC플래그', axis = 'columns')\n",
    "\n",
    "csv_all = csv_all.drop('지면온도(°C)', axis = 'columns')\n",
    "csv_all = csv_all.drop('지면온도 QC플래그', axis = 'columns')\n",
    "\n",
    "csv_all = csv_all.drop('5cm 지중온도(°C)', axis = 'columns')\n",
    "csv_all = csv_all.drop('10cm 지중온도(°C)', axis = 'columns')\n",
    "csv_all = csv_all.drop('20cm 지중온도(°C)', axis = 'columns')\n",
    "csv_all = csv_all.drop('30cm 지중온도(°C)', axis = 'columns')\n",
    "\n",
    "csv_all.to_csv('./full_weather.csv', encoding = 'euc-kr' )"
   ]
  }
 ],
 "metadata": {
  "kernelspec": {
   "display_name": "Python 3 (ipykernel)",
   "language": "python",
   "name": "python3"
  },
  "language_info": {
   "codemirror_mode": {
    "name": "ipython",
    "version": 3
   },
   "file_extension": ".py",
   "mimetype": "text/x-python",
   "name": "python",
   "nbconvert_exporter": "python",
   "pygments_lexer": "ipython3",
   "version": "3.7.8"
  }
 },
 "nbformat": 4,
 "nbformat_minor": 5
}
