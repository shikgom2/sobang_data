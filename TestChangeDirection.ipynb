{
 "cells": [
  {
   "cell_type": "code",
   "execution_count": 7,
   "id": "1eb189f0",
   "metadata": {},
   "outputs": [
    {
     "name": "stdout",
     "output_type": "stream",
     "text": [
      "coordinate : 161519.56, 53756.12\n"
     ]
    },
    {
     "data": {
      "text/plain": [
       "0       131634.8906\n",
       "1       157287.3438\n",
       "2       160248.2969\n",
       "3       124546.5078\n",
       "4       124546.5078\n",
       "           ...     \n",
       "1542      153240.39\n",
       "1543      156449.07\n",
       "1544      149236.92\n",
       "1545      145783.46\n",
       "1546      156470.21\n",
       "Name: loc_info_x, Length: 1547, dtype: object"
      ]
     },
     "execution_count": 7,
     "metadata": {},
     "output_type": "execute_result"
    }
   ],
   "source": [
    "import pandas as pd\n",
    "import geopandas as gpd\n",
    "from shapely.geometry import Polygon, LineString, Point\n",
    "import random\n",
    "\n",
    "weather_csv = gpd.read_file(\"./기상청_종관기상관측_ASOS.csv\", encoding='cp949')\n",
    "accident_csv = gpd.read_file(\"제주특별자치도_수난사고 구조출동 현황_2011_2020.csv\")\n",
    "length = len(accident_csv)\n",
    "\n",
    "idx = int(random.random() * length)\n",
    "print(\"coordinate : \" + str(accident_csv['loc_info_x'][idx]) + \", \" + str(accident_csv['loc_info_y'][idx]))"
   ]
  },
  {
   "cell_type": "code",
   "execution_count": 19,
   "id": "859b7f08",
   "metadata": {},
   "outputs": [
    {
     "name": "stdout",
     "output_type": "stream",
     "text": [
      "aV1WHLM4r0WP7mt895Qpb9VErm3x_GCcfwf-_syqCilvVAAAAYIU5yyZ\n"
     ]
    }
   ],
   "source": [
    "url = 'https://kauth.kakao.com/oauth/token'\n",
    "rest_api_key = '359e276820f89feab230a8eb1eeadedd'\n",
    "redirect_uri = 'http://localhost:8888/' # APP에서 등록한 redirect_url\n",
    "authorize_code = '-Ti1X-TEIwWEg8lHx3xTPOKZk5TdUQMW4M_joY99Vw_GMUHg78lt7g-McQx5fhPTvvUt0worDR4AAAGCFOaPpA'\n",
    " \n",
    "data = {\n",
    "        'grant_type':'authorization_code',\n",
    "        'client_id':rest_api_key,\n",
    "        'redirect_uri':redirect_uri,\n",
    "        'code': authorize_code,\n",
    "    }\n",
    "\n",
    "response = requests.post(url, data=data)\n",
    "tokens = response.json()\n",
    "print(tokens[\"access_token\"])"
   ]
  },
  {
   "cell_type": "code",
   "execution_count": 32,
   "id": "481aafe9",
   "metadata": {},
   "outputs": [
    {
     "name": "stdout",
     "output_type": "stream",
     "text": [
      "<Response [200]>\n",
      "{'meta': {'total_count': 1}, 'documents': [{'x': 125.44677692988476, 'y': 33.05006202689936}]}\n"
     ]
    }
   ],
   "source": [
    "import requests\n",
    "\n",
    "method = \"GET\"\n",
    "url = \"https://dapi.kakao.com/v2/local/geo/transcoord.json\"\n",
    "params = {'x' : str(accident_csv['loc_info_x'][idx]), \n",
    "          'y' : str(accident_csv['loc_info_y'][idx]),\n",
    "          'input_coord' : 'WKTM',\n",
    "          'output_coord' : 'WGS84'}\n",
    "header = {'authorization': 'KakaoAK 359e276820f89feab230a8eb1eeadedd'}\n",
    "\n",
    "response = requests.request(method=method, url=url, headers=header, params=params )\n",
    "\n",
    "tokens = response.json()\n",
    "\n",
    "print(response)\n",
    "print(tokens)\n"
   ]
  }
 ],
 "metadata": {
  "kernelspec": {
   "display_name": "Python 3 (ipykernel)",
   "language": "python",
   "name": "python3"
  },
  "language_info": {
   "codemirror_mode": {
    "name": "ipython",
    "version": 3
   },
   "file_extension": ".py",
   "mimetype": "text/x-python",
   "name": "python",
   "nbconvert_exporter": "python",
   "pygments_lexer": "ipython3",
   "version": "3.7.8"
  }
 },
 "nbformat": 4,
 "nbformat_minor": 5
}
