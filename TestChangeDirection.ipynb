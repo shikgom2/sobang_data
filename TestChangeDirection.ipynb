{
 "cells": [
  {
   "cell_type": "code",
   "execution_count": 7,
   "id": "1eb189f0",
   "metadata": {},
   "outputs": [
    {
     "name": "stdout",
     "output_type": "stream",
     "text": [
      "coordinate : 161519.56, 53756.12\n"
     ]
    },
    {
     "data": {
      "text/plain": [
       "0       131634.8906\n",
       "1       157287.3438\n",
       "2       160248.2969\n",
       "3       124546.5078\n",
       "4       124546.5078\n",
       "           ...     \n",
       "1542      153240.39\n",
       "1543      156449.07\n",
       "1544      149236.92\n",
       "1545      145783.46\n",
       "1546      156470.21\n",
       "Name: loc_info_x, Length: 1547, dtype: object"
      ]
     },
     "execution_count": 7,
     "metadata": {},
     "output_type": "execute_result"
    }
   ],
   "source": [
    "import pandas as pd\n",
    "import geopandas as gpd\n",
    "from shapely.geometry import Polygon, LineString, Point\n",
    "import random\n",
    "\n",
    "weather_csv = gpd.read_file(\"./기상청_종관기상관측_ASOS.csv\", encoding='cp949')\n",
    "accident_csv = gpd.read_file(\"제주특별자치도_수난사고 구조출동 현황_2011_2020.csv\")\n",
    "length = len(accident_csv)\n",
    "\n",
    "idx = int(random.random() * length)\n",
    "print(\"coordinate : \" + str(accident_csv['loc_info_x'][idx]) + \", \" + str(accident_csv['loc_info_y'][idx]))\n",
    "\n",
    "accident_csv['loc_info_x']"
   ]
  },
  {
   "cell_type": "code",
   "execution_count": null,
   "id": "96acf24e",
   "metadata": {},
   "outputs": [],
   "source": []
  },
  {
   "cell_type": "code",
   "execution_count": null,
   "id": "481aafe9",
   "metadata": {},
   "outputs": [],
   "source": []
  }
 ],
 "metadata": {
  "kernelspec": {
   "display_name": "Python 3 (ipykernel)",
   "language": "python",
   "name": "python3"
  },
  "language_info": {
   "codemirror_mode": {
    "name": "ipython",
    "version": 3
   },
   "file_extension": ".py",
   "mimetype": "text/x-python",
   "name": "python",
   "nbconvert_exporter": "python",
   "pygments_lexer": "ipython3",
   "version": "3.7.8"
  }
 },
 "nbformat": 4,
 "nbformat_minor": 5
}
